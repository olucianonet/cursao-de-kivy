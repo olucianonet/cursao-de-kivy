{
 "cells": [
  {
   "cell_type": "code",
   "execution_count": 1,
   "metadata": {},
   "outputs": [
    {
     "name": "stderr",
     "output_type": "stream",
     "text": [
      "[INFO   ] [Logger      ] Record log in /home/luciano/.kivy/logs/kivy_20-10-10_41.txt\n",
      "[INFO   ] [Kivy        ] v1.11.1\n",
      "[INFO   ] [Kivy        ] Installed at \"/home/luciano/workspace/python/kivy-course/.venv/lib/python3.7/site-packages/kivy/__init__.py\"\n",
      "[INFO   ] [Python      ] v3.7.7 (default, Oct  5 2020, 18:38:41) \n",
      "[GCC 8.3.0]\n",
      "[INFO   ] [Python      ] Interpreter at \"/home/luciano/workspace/python/kivy-course/.venv/bin/python\"\n",
      "[INFO   ] [Factory     ] 184 symbols loaded\n",
      "[INFO   ] [Image       ] Providers: img_tex, img_dds, img_sdl2, img_gif (img_pil, img_ffpyplayer ignored)\n",
      "[WARNING] [Deprecated  ] Call to deprecated function __init__ in /home/luciano/workspace/python/kivy-course/.venv/lib/python3.7/site-packages/kivy/interactive.py line 308.Called from <ipython-input-3-5d7600c1ef49> line 2 by <module>().\n",
      "[INFO   ] [Window      ] Provider: sdl2(['window_egl_rpi'] ignored)\n",
      "[INFO   ] [GL          ] Using the \"OpenGL\" graphics system\n",
      "[INFO   ] [GL          ] Backend used <sdl2>\n",
      "[INFO   ] [GL          ] OpenGL version <b'3.1 Mesa 18.3.6'>\n",
      "[INFO   ] [GL          ] OpenGL vendor <b'VMware, Inc.'>\n",
      "[INFO   ] [GL          ] OpenGL renderer <b'llvmpipe (LLVM 7.0, 256 bits)'>\n",
      "[INFO   ] [GL          ] OpenGL parsed version: 3, 1\n",
      "[INFO   ] [GL          ] Shading version <b'1.40'>\n",
      "[INFO   ] [GL          ] Texture max size <8192>\n",
      "[INFO   ] [GL          ] Texture max units <32>\n",
      "[INFO   ] [Window      ] auto add sdl2 input provider\n",
      "[INFO   ] [Window      ] virtual keyboard not allowed, single mode, not docked\n",
      "[INFO   ] [Base        ] Start application main loop\n",
      "[INFO   ] [Text        ] Provider: sdl2\n",
      "[INFO   ] [GL          ] NPOT texture support is available\n",
      "[INFO   ] [WindowSDL   ] exiting mainloop and closing.\n",
      "[INFO   ] [Base        ] Leaving application in progress...\n"
     ]
    }
   ],
   "source": [
    "from kivy.app import App\n",
    "from kivy.uix.widget import Widget\n",
    "from kivy.interactive import InteractiveLauncher\n",
    "\n",
    "from kivy.config import Config\n",
    "Config.set('graphics', 'fullscreen', '0')"
   ]
  },
  {
   "cell_type": "code",
   "execution_count": 2,
   "metadata": {},
   "outputs": [],
   "source": [
    "class AppStudy(App):\n",
    "    def build(self):\n",
    "        return Widget()"
   ]
  },
  {
   "cell_type": "code",
   "execution_count": 3,
   "metadata": {},
   "outputs": [],
   "source": [
    "e = AppStudy()\n",
    "ji = InteractiveLauncher(e)\n",
    "ji.run()"
   ]
  },
  {
   "cell_type": "code",
   "execution_count": 4,
   "metadata": {},
   "outputs": [],
   "source": [
    "from kivy.uix.button import Button\n",
    "bt = Button(text='E ai Mundão')"
   ]
  },
  {
   "cell_type": "code",
   "execution_count": 5,
   "metadata": {},
   "outputs": [],
   "source": [
    "ji.root.add_widget(bt)"
   ]
  },
  {
   "cell_type": "code",
   "execution_count": 6,
   "metadata": {},
   "outputs": [],
   "source": [
    "bt.text = 'Firmeza'"
   ]
  },
  {
   "cell_type": "code",
   "execution_count": 7,
   "metadata": {},
   "outputs": [],
   "source": [
    "def bt_click():\n",
    "    print(\"E ae mundão, firmeza\")"
   ]
  },
  {
   "cell_type": "code",
   "execution_count": 8,
   "metadata": {},
   "outputs": [
    {
     "name": "stdout",
     "output_type": "stream",
     "text": [
      "E ae mundão, firmeza\n",
      "E ae mundão, firmeza\n",
      "E ae mundão, firmeza\n",
      "E ae mundão, firmeza\n",
      "E ae mundão, firmeza\n",
      "E ae mundão, firmeza\n",
      "E ae mundão, firmeza\n",
      "E ae mundão, firmeza\n",
      "E ae mundão, firmeza\n",
      "E ae mundão, firmeza\n",
      "E ae mundão, firmeza\n",
      "E ae mundão, firmeza\n",
      "E ae mundão, firmeza\n",
      "E ae mundão, firmeza\n",
      "E ae mundão, firmeza\n",
      "E ae mundão, firmeza\n",
      "E ae mundão, firmeza\n",
      "E ae mundão, firmeza\n",
      "E ae mundão, firmeza\n",
      "E ae mundão, firmeza\n",
      "E ae mundão, firmeza\n",
      "E ae mundão, firmeza\n"
     ]
    }
   ],
   "source": [
    "bt.on_press = bt_click"
   ]
  },
  {
   "cell_type": "code",
   "execution_count": null,
   "metadata": {},
   "outputs": [],
   "source": []
  }
 ],
 "metadata": {
  "kernelspec": {
   "display_name": "Python 3",
   "language": "python",
   "name": "python3"
  },
  "language_info": {
   "codemirror_mode": {
    "name": "ipython",
    "version": 3
   },
   "file_extension": ".py",
   "mimetype": "text/x-python",
   "name": "python",
   "nbconvert_exporter": "python",
   "pygments_lexer": "ipython3",
   "version": "3.7.7"
  }
 },
 "nbformat": 4,
 "nbformat_minor": 4
}
